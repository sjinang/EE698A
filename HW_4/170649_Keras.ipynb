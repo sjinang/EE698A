{
 "cells": [
  {
   "cell_type": "code",
   "execution_count": 145,
   "metadata": {
    "colab": {},
    "colab_type": "code",
    "id": "jLDisQ6gAaMQ",
    "scrolled": true
   },
   "outputs": [],
   "source": [
    "import numpy as np\n",
    "import matplotlib.pyplot as plt\n",
    "import sklearn\n",
    "from sklearn.datasets import load_iris\n",
    "import keras\n",
    "from keras.models import Sequential"
   ]
  },
  {
   "cell_type": "code",
   "execution_count": 146,
   "metadata": {
    "colab": {
     "base_uri": "https://localhost:8080/",
     "height": 51
    },
    "colab_type": "code",
    "id": "pwyZu2ibAhO1",
    "outputId": "01503b88-86a2-4619-d029-6ba8a7632cd8"
   },
   "outputs": [],
   "source": [
    "def loadIrisData():\n",
    "    iris = load_iris()\n",
    "    X=iris['data']\n",
    "    t=iris['target']\n",
    "    return X, t"
   ]
  },
  {
   "cell_type": "code",
   "execution_count": 147,
   "metadata": {
    "colab": {},
    "colab_type": "code",
    "id": "48_5__HzBks_"
   },
   "outputs": [],
   "source": [
    "def one_hot_encoding(t_indices, N):\n",
    "    '''\n",
    "    Inputs:\n",
    "        t_indices: list of indices\n",
    "        N: total no. of classes\n",
    "    '''\n",
    "    assert N>max(t_indices), (N, max(t_indices))\n",
    "\n",
    "    ### WRITE YOUR CODE HERE - 2 MARKS\n",
    "    t_indices = np.array(t_indices)\n",
    "    t_1hot = np.zeros((t_indices.size, N))\n",
    "    t_1hot[np.arange(t_indices.size), t_indices[np.arange(t_indices.size)]] = 1\n",
    "    return t_1hot"
   ]
  },
  {
   "cell_type": "code",
   "execution_count": 148,
   "metadata": {
    "colab": {},
    "colab_type": "code",
    "id": "VXxxA2YkB_I8"
   },
   "outputs": [],
   "source": [
    "def splitData(X,t,testFraction=0.2):\n",
    "    \"\"\"\n",
    "    Use numpy functions only\n",
    "    Inputs:\n",
    "        X: np array of shape (Nsamples, dim)\n",
    "        t: np array of len Nsamples; can be one hot vectors or labels\n",
    "        testFraction: (float) Nsamples_test = testFraction * Nsamples\n",
    "    \"\"\"\n",
    "\n",
    "    ### WRITE YOUR CODE HERE - 2 MARKS\n",
    "    X = np.array(X)\n",
    "    t = np.array(t)\n",
    "    ind = np.arange(t.shape[0])\n",
    "    np.random.shuffle(ind)\n",
    "    X = X[ind]\n",
    "    t = t[ind]\n",
    "    testsize = int(testFraction*t.shape[0])\n",
    "    X_test = X[0:testsize]\n",
    "    t_test = t[0:testsize]\n",
    "    X_train = X[testsize:]\n",
    "    t_train = t[testsize:]\n",
    "    return X_train, t_train, X_test, t_test"
   ]
  },
  {
   "cell_type": "code",
   "execution_count": 149,
   "metadata": {
    "colab": {},
    "colab_type": "code",
    "id": "OK2lZ6ZpCjAg"
   },
   "outputs": [],
   "source": [
    "### Normalize data to be of zero mean and unit variance\n",
    "def normalizeX(X_train, X_test):\n",
    "    '''\n",
    "    Inputs:\n",
    "        X_train: np array 2d\n",
    "        X_test: np array 2d\n",
    "    Outputs:\n",
    "        Normalized np arrays 2d\n",
    "    '''\n",
    "\n",
    "    ### WRITE YOUR CODE HERE - 2 MARKS\n",
    "    X_train = np.array(X_train).astype(float)\n",
    "    X_test = np.array(X_test).astype(float)\n",
    "    X_test_normalized=np.copy(X_test)\n",
    "    X_train_normalized=np.copy(X_train)\n",
    "    \n",
    "    for i in np.arange(X_train.shape[1]):\n",
    "        X_test_normalized[:,i] = (X_test[:,i] - np.mean(X_train[:,i])) / np.std(X_train[:,i])\n",
    "        X_train_normalized[:,i] = (X_train[:,i] - np.mean(X_train[:,i])) / np.std(X_train[:,i])\n",
    "\n",
    "    return X_train_normalized, X_test_normalized"
   ]
  },
  {
   "cell_type": "code",
   "execution_count": 150,
   "metadata": {
    "colab": {},
    "colab_type": "code",
    "id": "Iwi4QwxlOAOR"
   },
   "outputs": [],
   "source": [
    "def predict_label(x):    \n",
    "    '''\n",
    "    Output:\n",
    "    y: np array of index\n",
    "    '''\n",
    "\n",
    "    ### WRITE YOUR CODE HERE - 1 MARKS\n",
    "    y = np.zeros((np.array(x).shape[0],))\n",
    "    for ind in range(x.shape[0]):\n",
    "        y[ind] = np.argmax(x[ind])\n",
    "    return y"
   ]
  },
  {
   "cell_type": "code",
   "execution_count": 151,
   "metadata": {
    "colab": {
     "base_uri": "https://localhost:8080/",
     "height": 68
    },
    "colab_type": "code",
    "id": "fmR8F2JIFwqm",
    "outputId": "fa868689-92c8-4a43-882f-3321cde1a301"
   },
   "outputs": [],
   "source": [
    "### Lastly, report the accuracy of your model and print the Confusion Matrix\n",
    "#printing the confusion matrix\n",
    "def getCM(y,t):\n",
    "    '''\n",
    "    Inputs:\n",
    "        y: estimated labels np array (Nsample,1)\n",
    "        t: targets np array (Nsamples,1)\n",
    "    Outputs:\n",
    "        CM : np array of confusion matrix\n",
    "    '''\n",
    "\n",
    "    ### WRITE YOUR CODE HERE - 3 MARKS\n",
    "    CM = np.zeros((3,3))\n",
    "    acc_pred = 0\n",
    "    for i,j in zip(t,y):\n",
    "        CM[int(i),int(j)] += 1\n",
    "        if i==j:\n",
    "            acc_pred += 1\n",
    "    #print(\"Accuracy:\",acc_pred/t.shape[0])\n",
    "    return CM"
   ]
  },
  {
   "cell_type": "markdown",
   "metadata": {},
   "source": [
    "#### Experiments\n",
    "Use the above functions to carry out the experiment:\n",
    "- load iris data and prepare it for NN\n",
    "- split randomly into 20% test data\n",
    "- create a NN with 1 hidden layer\n",
    "- train the network with training data\n",
    "- Plot loss w.r.t. number of epochs\n",
    "- Print confusion matrix on test data"
   ]
  },
  {
   "cell_type": "code",
   "execution_count": 152,
   "metadata": {
    "colab": {
     "base_uri": "https://localhost:8080/",
     "height": 51
    },
    "colab_type": "code",
    "id": "hewsBv12weZ2",
    "outputId": "52407420-e7e5-4ca6-952b-6448ffe4b101"
   },
   "outputs": [
    {
     "data": {
      "image/png": "[encoded data removed]",
      "text/plain": [
       "<Figure size 432x288 with 1 Axes>"
      ]
     },
     "metadata": {
      "needs_background": "light"
     },
     "output_type": "display_data"
    },
    {
     "name": "stdout",
     "output_type": "stream",
     "text": [
      "[[ 8.  0.  0.]\n",
      " [ 0.  4.  7.]\n",
      " [ 0.  0. 11.]]\n"
     ]
    },
    {
     "data": {
      "image/png": "[encoded data removed]",
      "text/plain": [
       "<Figure size 432x288 with 1 Axes>"
      ]
     },
     "metadata": {
      "needs_background": "light"
     },
     "output_type": "display_data"
    },
    {
     "name": "stdout",
     "output_type": "stream",
     "text": [
      "[[ 8.  0.  0.]\n",
      " [ 0. 11.  0.]\n",
      " [ 0.  0. 11.]]\n"
     ]
    }
   ],
   "source": [
    "def experiment():\n",
    "\n",
    "    ### WRITE YOUR CODE HERE - 10 MARKS\n",
    "    X, t = loadIrisData()\n",
    "    X_train, t_train, X_test, t_test = splitData(X, t)\n",
    "    X_train, X_test = normalizeX(X_train, X_test)\n",
    "    t_train = one_hot_encoding(t_train, 3)\n",
    "    \n",
    "    model1 = Sequential()\n",
    "    model1.add(keras.layers.Dense(units=10, activation='sigmoid', input_dim=4))\n",
    "    model1.add(keras.layers.Dense(units=3, activation='sigmoid'))\n",
    "    model1.compile(loss=keras.losses.mean_squared_error, optimizer = keras.optimizers.RMSprop(lr=0.001, rho=0.9))\n",
    "    history1 = model1.fit(X_train, t_train, epochs = 500, batch_size = 120, verbose=0)\n",
    "    classes1 = predict_label(model1.predict(X_test, batch_size=120))\n",
    "    plt.plot(history1.history['loss'],'r')\n",
    "    plt.title('Sigmoid; Mean Squared Error Loss')\n",
    "    plt.ylabel('Loss')\n",
    "    plt.xlabel('Epoch')\n",
    "    plt.legend(['Train'], loc='upper right')\n",
    "    plt.show()\n",
    "    print(getCM(classes1, t_test))\n",
    "    #,optimizer=keras.optimizers.SGD(lr=0.05, momentum=0.9, nesterov=True)\n",
    "    model2 = Sequential()\n",
    "    model2.add(keras.layers.Dense(units=10, activation='sigmoid', input_dim=4))\n",
    "    model2.add(keras.layers.Dense(units=3, activation='softmax'))\n",
    "    model2.compile(loss=keras.losses.categorical_crossentropy, optimizer = keras.optimizers.RMSprop(lr=0.001, rho=0.9))\n",
    "    history2 = model2.fit(X_train, t_train, epochs = 1000, batch_size = 120,  verbose=0)\n",
    "    classes2 = predict_label(model2.predict(X_test, batch_size=120))\n",
    "    plt.plot(history2.history['loss'], 'r')\n",
    "    plt.title('Model loss for Softmax; Cross Entropy Loss')\n",
    "    plt.ylabel('Loss')\n",
    "    plt.xlabel('Epoch')\n",
    "    plt.legend(['Train'], loc='upper right')\n",
    "    plt.show()\n",
    "    print(getCM(classes2, t_test))\n",
    "    \n",
    "    \n",
    "    \n",
    "if __name__==\"__main__\":\n",
    "    experiment()"
   ]
  }
 ],
 "metadata": {
  "colab": {
   "collapsed_sections": [],
   "name": "BP_Iris.ipynb",
   "provenance": [],
   "version": "0.3.2"
  },
  "kernelspec": {
   "display_name": "Python 3",
   "language": "python",
   "name": "python3"
  },
  "language_info": {
   "codemirror_mode": {
    "name": "ipython",
    "version": 3
   },
   "file_extension": ".py",
   "mimetype": "text/x-python",
   "name": "python",
   "nbconvert_exporter": "python",
   "pygments_lexer": "ipython3",
   "version": "3.6.8"
  }
 },
 "nbformat": 4,
 "nbformat_minor": 1
}
