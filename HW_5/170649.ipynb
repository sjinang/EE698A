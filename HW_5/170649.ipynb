{
 "cells": [
  {
   "cell_type": "markdown",
   "metadata": {},
   "source": [
    "# Model the Data\n",
    "Given a set of scalar data, you can model it with a suitable pdf. This exercise will help you learn the following:\n",
    "- How would you choose the best model to fit the given data?\n",
    "- How would you estimate the model parameters from the given data?\n",
    "- Given a model, how do you sample new data from it?\n",
    "\n",
    "Note: You are allowed to use only numpy and matplotlib libraries. No ML library."
   ]
  },
  {
   "cell_type": "code",
   "execution_count": 352,
   "metadata": {},
   "outputs": [],
   "source": [
    "import numpy as np\n",
    "np.random.seed(111)"
   ]
  },
  {
   "cell_type": "code",
   "execution_count": 353,
   "metadata": {},
   "outputs": [],
   "source": [
    "def data2gaussian(S):\n",
    "    '''\n",
    "    Return optimal parameters - (mu,sigma)\n",
    "    Inputs:\n",
    "        S: np array of shape (Ns,). These are samples of a random variable.\n",
    "    Outputs:\n",
    "        mu: float\n",
    "        sigma: float\n",
    "    '''\n",
    "\n",
    "    ### WRITE YOUR CODE HERE - 5 MARKS\n",
    "    S = np.array(S)\n",
    "    mu = np.sum(S)/S.size\n",
    "    S = (S-mu)**2\n",
    "    sigma = np.sqrt(np.sum(S)/S.size)\n",
    "    return mu, sigma"
   ]
  },
  {
   "cell_type": "code",
   "execution_count": 354,
   "metadata": {},
   "outputs": [
    {
     "name": "stdout",
     "output_type": "stream",
     "text": [
      "0.06000000000000001 0.19595917942265426\n",
      "Test passed 👍\n"
     ]
    }
   ],
   "source": [
    "def test_data2gaussian(): # checks formatting only\n",
    "    S = [0.1,-0.2,0.4,0,0]\n",
    "    mu, sigma = data2gaussian(S)\n",
    "    print(mu,sigma)\n",
    "    assert isinstance(mu, (int, float))\n",
    "    assert isinstance(sigma, (int, float))\n",
    "    print('Test passed', '\\U0001F44D')\n",
    "if __name__==\"__main__\":\n",
    "    test_data2gaussian()"
   ]
  },
  {
   "cell_type": "code",
   "execution_count": 355,
   "metadata": {},
   "outputs": [],
   "source": [
    "def data2laplacian(S):\n",
    "    '''\n",
    "    Return optimal parameters - (mu,b). See https://en.wikipedia.org/wiki/Laplace_distribution\n",
    "    Inputs:\n",
    "        S: np array of shape (Ns,). These are samples of a random variable.\n",
    "    Outputs:\n",
    "        mu: float\n",
    "        b: float\n",
    "    '''\n",
    "\n",
    "    ### WRITE YOUR CODE HERE - 5 MARKS\n",
    "    S = np.array(S)\n",
    "    mu = np.median(S)\n",
    "    S = abs(S-mu)\n",
    "    b = np.sum(S)/S.size\n",
    "    return mu, b"
   ]
  },
  {
   "cell_type": "code",
   "execution_count": 356,
   "metadata": {},
   "outputs": [
    {
     "name": "stdout",
     "output_type": "stream",
     "text": [
      "0.0 0.14\n",
      "Test passed 👍\n"
     ]
    }
   ],
   "source": [
    "def test_data2laplacian(): # checks formatting only\n",
    "    S = [0.1,-0.2,0.4,0,0]\n",
    "    mu, b = data2laplacian(S)\n",
    "    print(mu,b)\n",
    "    assert isinstance(mu, (int, float))\n",
    "    assert isinstance(b, (int, float))\n",
    "    print('Test passed', '\\U0001F44D')\n",
    "if __name__==\"__main__\":\n",
    "    test_data2laplacian()"
   ]
  },
  {
   "cell_type": "code",
   "execution_count": 357,
   "metadata": {},
   "outputs": [],
   "source": [
    "def data2uniform(S):\n",
    "    '''\n",
    "    Return optimal parameters - (a,b)\n",
    "    Inputs:\n",
    "        S: np array of shape (Ns,). These are samples of a random variable.\n",
    "    Outputs:\n",
    "        a: float\n",
    "        b: float\n",
    "    '''\n",
    "\n",
    "    ### WRITE YOUR CODE HERE - 5 MARKS\n",
    "    S = np.array(S)\n",
    "    a = min(S)\n",
    "    b = max(S)\n",
    "    return a, b"
   ]
  },
  {
   "cell_type": "code",
   "execution_count": 358,
   "metadata": {},
   "outputs": [
    {
     "name": "stdout",
     "output_type": "stream",
     "text": [
      "-0.2 0.4\n",
      "Test passed 👍\n"
     ]
    }
   ],
   "source": [
    "def test_data2uniform(): # checks formatting only\n",
    "    S = [0.1,-0.2,0.4,0,0]\n",
    "    a, b = data2uniform(S)\n",
    "    print(a,b)\n",
    "    assert isinstance(a, (int, float))\n",
    "    assert isinstance(b, (int, float))\n",
    "    print('Test passed', '\\U0001F44D')\n",
    "if __name__==\"__main__\":\n",
    "    test_data2uniform()"
   ]
  },
  {
   "cell_type": "code",
   "execution_count": 359,
   "metadata": {},
   "outputs": [],
   "source": [
    "def data2model(S):\n",
    "    '''\n",
    "    Inputs:\n",
    "        S: np array of shape (Ns,). These are scalar samples of a random variable.\n",
    "    Outputs:\n",
    "        modelName: return one out of these - 'gaussian', 'laplacian', or \n",
    "                   'uniform' which best models the data\n",
    "    '''\n",
    "\n",
    "    ### WRITE YOUR CODE HERE - 10 MARKS\n",
    "    S = np.array(S)\n",
    "    mu_g, sigma_g = data2gaussian(S)\n",
    "    mu_l, b_l = data2laplacian(S)\n",
    "    a, b = data2laplacian(S)\n",
    "    \n",
    "    Sg = np.copy(S)\n",
    "    Sl = np.copy(S)\n",
    "    Su = np.copy(S)\n",
    "    \n",
    "    Sg = np.log(1/(np.sqrt(2*np.pi)*sigma_g)) - ( (0.5/(sigma_g**2)) * ((Sg - mu_g)**2) )\n",
    "    Sl = np.log(1/(2*b_l)) - ( (1/b) * abs(Sl - mu_l) )\n",
    "    Su = np.log(1/(b-a)) + np.zeros(Su.shape)\n",
    "    \n",
    "    lik_g = np.sum(Sg)\n",
    "    lik_l = np.sum(Sl)\n",
    "    lik_u = np.sum(Su)\n",
    "    \n",
    "    if lik_g > lik_l and lik_g > lik_u:\n",
    "        modelName = 'gaussian'\n",
    "    elif lik_l > lik_g and lik_l > lik_u:\n",
    "        modelName = 'laplacian'\n",
    "    else:\n",
    "        modelName = 'uniform'\n",
    "    \n",
    "    return modelName"
   ]
  },
  {
   "cell_type": "code",
   "execution_count": 360,
   "metadata": {},
   "outputs": [
    {
     "name": "stdout",
     "output_type": "stream",
     "text": [
      "Test passed 👍\n"
     ]
    }
   ],
   "source": [
    "def test_data2model(): # checks formatting only\n",
    "    S = [0.1,-0.2,0.4,0,0]\n",
    "    modelName = data2model(S)\n",
    "    assert modelName in ['gaussian', 'laplacian', 'uniform']\n",
    "    print('Test passed', '\\U0001F44D')\n",
    "if __name__==\"__main__\":\n",
    "    test_data2model()"
   ]
  },
  {
   "cell_type": "code",
   "execution_count": 361,
   "metadata": {},
   "outputs": [],
   "source": [
    "def sampleGMM(pi, mu, sigma, Ns=1):\n",
    "    '''\n",
    "    Inputs:\n",
    "        pi: np.array of shape (K,), p(z_k)\n",
    "        mu: np.array of shape (K,), mu of kth gaussian\n",
    "        sigma: np.array of shape (K,), sigma of kth gaussian\n",
    "        Ns: int, number of samples\n",
    "    Outputs:\n",
    "        S: np.array of shape (Ns,), samples from the GMM\n",
    "    '''\n",
    "\n",
    "    ### WRITE YOUR CODE HERE - 10 MARKS\n",
    "    pi = np.array(pi)\n",
    "    mu = np.array(mu)\n",
    "    sigma = np.array(sigma)\n",
    "    S = np.array([])\n",
    "    \n",
    "    for s in range(Ns):\n",
    "        k = np.random.choice(pi.shape[0],1,p=pi)\n",
    "        S = np.append(S,np.random.normal(mu[k],sigma[k],1))\n",
    "    \n",
    "    return S"
   ]
  },
  {
   "cell_type": "code",
   "execution_count": 362,
   "metadata": {},
   "outputs": [
    {
     "name": "stdout",
     "output_type": "stream",
     "text": [
      "Test passed 👍\n"
     ]
    }
   ],
   "source": [
    "def test_sampleGMM(): # checks formatting only\n",
    "    pi = [0.3,0.7]\n",
    "    mu = [-1.1, 1.3]\n",
    "    sigma = [1.5, 0.4]\n",
    "    Ns = 5\n",
    "    S = sampleGMM(pi, mu, sigma, Ns)\n",
    "    assert S.shape==(5,)\n",
    "    print('Test passed', '\\U0001F44D')\n",
    "if __name__==\"__main__\":\n",
    "    test_sampleGMM()"
   ]
  },
  {
   "cell_type": "code",
   "execution_count": 363,
   "metadata": {
    "scrolled": true
   },
   "outputs": [],
   "source": [
    "def data2GMM(S, K):\n",
    "    '''\n",
    "    Return optimal parameters - (pi,mu,sigma)\n",
    "    Inputs:\n",
    "        S: np array of shape (Ns,Na). These are samples of a random variable. Na can be 1, 2 or 3\n",
    "    Outputs:\n",
    "        pi: np array of shape (K,)\n",
    "        mu: np array of shape (K,Na)\n",
    "        sigma: np array of shape (K,Na,Na)\n",
    "    '''\n",
    "\n",
    "    ### WRITE YOUR CODE HERE - 15 MARKS\n",
    "    e = 0.00001  #Introduce bias in the system for its stability\n",
    "    # Initialization of parameters\n",
    "    S = np.array(S)\n",
    "    pi = np.array([1/K]*K)\n",
    "    mu = np.random.uniform(-5,5,(K,S.shape[1]))\n",
    "    var = np.array([np.identity(S.shape[1]) + (e*np.identity(S.shape[1]))]*K)\n",
    "    r = np.zeros((S.shape[0],K))\n",
    "    max_iter = 100\n",
    "    #Eo = 0\n",
    "    # Allowed maximum iterations, if the convergence is achieved then it will jumble around the convergent point\n",
    "    for n in range(max_iter):\n",
    "        \n",
    "        for i in range(S.shape[0]):\n",
    "            for k in range(K):\n",
    "                x = (S[i]-mu[k]).reshape((1,S.shape[1]))\n",
    "                r[i,k] = pi[k]*(abs(np.linalg.det(var[k]))**-0.5)*np.exp(-0.5*np.linalg.det(x @ np.linalg.inv(var[k]) @ x.T))\n",
    "\n",
    "        r = (r.T/r.sum(axis=1)).T\n",
    "        \n",
    "        for k in range(K):\n",
    "            pi[k] = r[:,k].sum()/S.shape[0]\n",
    "\n",
    "            s1 = 0\n",
    "            for i in range(S.shape[0]):\n",
    "                s1 += r[i,k]*S[i]\n",
    "            mu[k] = s1/r[:,k].sum()\n",
    "\n",
    "            s2 = 0\n",
    "            for i in range(S.shape[0]):\n",
    "                x = (S[i]-mu[k]).reshape((1,S.shape[1]))\n",
    "                s2 += r[i,k]*(x.T @ x)\n",
    "            # Update covariance matrix with the bias of e in its digonal elements\n",
    "            var[k] = (s2/r[:,k].sum()) + (e*np.identity(S.shape[1]))\n",
    "        '''\n",
    "        E = 0\n",
    "        for i in range(S.shape[0]):\n",
    "            for k in range(K):\n",
    "                x = (S[i]-mu[k]).reshape((1,S.shape[1]))\n",
    "                E += r[i,k]*np.log(pi[k]*((2*np.pi*abs(np.linalg.det(var[k])))**-0.5)*np.exp(-0.5*np.linalg.det(x @ np.linalg.inv(var[k]) @ x.T)))\n",
    "                print('n',n,'i',i,'k',k,'E',E,'r',r[i,k],np.exp(-0.5*np.linalg.det(x @ np.linalg.inv(var[k]) @ x.T)),-0.5*np.linalg.det(x @ np.linalg.inv(var[k]) @ x.T))\n",
    "        if n!=0 and abs((E-Eo)/Eo)<0.01:\n",
    "            break\n",
    "        Eo = E\n",
    "        '''\n",
    "    for k in range(K):\n",
    "        var[k] = np.sqrt(np.diag(np.diag(var[k])))\n",
    "    sigma = var\n",
    "    \n",
    "    return pi, mu, sigma\n"
   ]
  },
  {
   "cell_type": "code",
   "execution_count": 364,
   "metadata": {},
   "outputs": [
    {
     "name": "stdout",
     "output_type": "stream",
     "text": [
      "Test passed 👍\n"
     ]
    }
   ],
   "source": [
    "def test_data2GMM(): # checks formatting only\n",
    "    S = np.random.random((10,3))\n",
    "    pi, mu, sigma = data2GMM(S,2)\n",
    "    assert pi.shape==(2,)\n",
    "    assert mu.shape==(2,3)\n",
    "    assert sigma.shape==(2,3,3)\n",
    "    print('Test passed', '\\U0001F44D')\n",
    "if __name__==\"__main__\":\n",
    "    test_data2GMM()"
   ]
  }
 ],
 "metadata": {
  "kernelspec": {
   "display_name": "Python 3",
   "language": "python",
   "name": "python3"
  },
  "language_info": {
   "codemirror_mode": {
    "name": "ipython",
    "version": 3
   },
   "file_extension": ".py",
   "mimetype": "text/x-python",
   "name": "python",
   "nbconvert_exporter": "python",
   "pygments_lexer": "ipython3",
   "version": "3.6.8"
  }
 },
 "nbformat": 4,
 "nbformat_minor": 2
}
